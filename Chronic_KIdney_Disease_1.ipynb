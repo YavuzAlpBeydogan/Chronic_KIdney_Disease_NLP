{
 "cells": [
  {
   "cell_type": "code",
   "execution_count": 1,
   "id": "0f0e895c-7044-409a-b86a-26b470b5776e",
   "metadata": {},
   "outputs": [],
   "source": [
    "#import kütüphane\n",
    "import pandas as pd\n",
    "import matplotlib.pyplot as plt\n",
    "import seaborn as sns\n",
    "\n",
    "from sklearn.model_selection import train_test_split\n",
    "from sklearn.metrics import accuracy_score, confusion_matrix, classification_report\n",
    "from sklearn.tree import DecisionTreeClassifier,plot_tree\n",
    "from sklearn.preprocessing import LabelEncoder\n",
    "import warnings\n",
    "warnings.filterwarnings(\"ignore\")\n",
    "\n",
    "from sklearn.impute import SimpleImputer\n",
    "from sklearn import preprocessing"
   ]
  },
  {
   "cell_type": "code",
   "execution_count": 2,
   "id": "0eba79a2-686f-43f1-9b17-20f37cf41ff9",
   "metadata": {},
   "outputs": [],
   "source": [
    "df=pd.read_csv(\"kidney_disease.csv\") #Veriseti yükleme\n",
    "df.drop(\"id\",axis=1,inplace=True) #id sütununu sildim"
   ]
  },
  {
   "cell_type": "code",
   "execution_count": 4,
   "id": "f809ab46-5fcd-4715-91ac-368282da25d3",
   "metadata": {},
   "outputs": [
    {
     "name": "stdout",
     "output_type": "stream",
     "text": [
      "<class 'pandas.core.frame.DataFrame'>\n",
      "RangeIndex: 400 entries, 0 to 399\n",
      "Data columns (total 25 columns):\n",
      " #   Column          Non-Null Count  Dtype  \n",
      "---  ------          --------------  -----  \n",
      " 0   age             391 non-null    float64\n",
      " 1   bp              388 non-null    float64\n",
      " 2   sg              353 non-null    float64\n",
      " 3   al              354 non-null    float64\n",
      " 4   su              351 non-null    float64\n",
      " 5   rbc             248 non-null    object \n",
      " 6   pc              335 non-null    object \n",
      " 7   pcc             396 non-null    object \n",
      " 8   ba              396 non-null    object \n",
      " 9   bgr             356 non-null    float64\n",
      " 10  bu              381 non-null    float64\n",
      " 11  sc              383 non-null    float64\n",
      " 12  sod             313 non-null    float64\n",
      " 13  pot             312 non-null    float64\n",
      " 14  hemo            348 non-null    float64\n",
      " 15  pcv             330 non-null    object \n",
      " 16  wc              295 non-null    object \n",
      " 17  rc              270 non-null    object \n",
      " 18  htn             398 non-null    object \n",
      " 19  dm              398 non-null    object \n",
      " 20  cad             398 non-null    object \n",
      " 21  appet           399 non-null    object \n",
      " 22  pe              399 non-null    object \n",
      " 23  ane             399 non-null    object \n",
      " 24  classification  400 non-null    object \n",
      "dtypes: float64(11), object(14)\n",
      "memory usage: 78.3+ KB\n"
     ]
    }
   ],
   "source": [
    "df.shape #kaç satır ve sütundan oluştuğunu göster\n",
    "df.info()"
   ]
  },
  {
   "cell_type": "code",
   "execution_count": 5,
   "id": "0538dbb5-d696-4ee4-abec-17908d373363",
   "metadata": {},
   "outputs": [
    {
     "data": {
      "text/plain": [
       "Index(['age', 'bp', 'sg', 'al', 'su', 'rbc', 'pc', 'pcc', 'ba', 'bgr', 'bu',\n",
       "       'sc', 'sod', 'pot', 'hemo', 'pcv', 'wc', 'rc', 'htn', 'dm', 'cad',\n",
       "       'appet', 'pe', 'ane', 'classification'],\n",
       "      dtype='object')"
      ]
     },
     "execution_count": 5,
     "metadata": {},
     "output_type": "execute_result"
    }
   ],
   "source": [
    "df.columns #verilerin adlarını göster"
   ]
  },
  {
   "cell_type": "code",
   "execution_count": 6,
   "id": "9e623032-c26b-4590-84c6-eb0471abd063",
   "metadata": {},
   "outputs": [
    {
     "data": {
      "text/html": [
       "<div>\n",
       "<style scoped>\n",
       "    .dataframe tbody tr th:only-of-type {\n",
       "        vertical-align: middle;\n",
       "    }\n",
       "\n",
       "    .dataframe tbody tr th {\n",
       "        vertical-align: top;\n",
       "    }\n",
       "\n",
       "    .dataframe thead th {\n",
       "        text-align: right;\n",
       "    }\n",
       "</style>\n",
       "<table border=\"1\" class=\"dataframe\">\n",
       "  <thead>\n",
       "    <tr style=\"text-align: right;\">\n",
       "      <th></th>\n",
       "      <th>age</th>\n",
       "      <th>bp</th>\n",
       "      <th>sg</th>\n",
       "      <th>al</th>\n",
       "      <th>su</th>\n",
       "      <th>bgr</th>\n",
       "      <th>bu</th>\n",
       "      <th>sc</th>\n",
       "      <th>sod</th>\n",
       "      <th>pot</th>\n",
       "      <th>hemo</th>\n",
       "    </tr>\n",
       "  </thead>\n",
       "  <tbody>\n",
       "    <tr>\n",
       "      <th>count</th>\n",
       "      <td>391.000000</td>\n",
       "      <td>388.000000</td>\n",
       "      <td>353.000000</td>\n",
       "      <td>354.000000</td>\n",
       "      <td>351.000000</td>\n",
       "      <td>356.000000</td>\n",
       "      <td>381.000000</td>\n",
       "      <td>383.000000</td>\n",
       "      <td>313.000000</td>\n",
       "      <td>312.000000</td>\n",
       "      <td>348.000000</td>\n",
       "    </tr>\n",
       "    <tr>\n",
       "      <th>mean</th>\n",
       "      <td>51.483376</td>\n",
       "      <td>76.469072</td>\n",
       "      <td>1.017408</td>\n",
       "      <td>1.016949</td>\n",
       "      <td>0.450142</td>\n",
       "      <td>148.036517</td>\n",
       "      <td>57.425722</td>\n",
       "      <td>3.072454</td>\n",
       "      <td>137.528754</td>\n",
       "      <td>4.627244</td>\n",
       "      <td>12.526437</td>\n",
       "    </tr>\n",
       "    <tr>\n",
       "      <th>std</th>\n",
       "      <td>17.169714</td>\n",
       "      <td>13.683637</td>\n",
       "      <td>0.005717</td>\n",
       "      <td>1.352679</td>\n",
       "      <td>1.099191</td>\n",
       "      <td>79.281714</td>\n",
       "      <td>50.503006</td>\n",
       "      <td>5.741126</td>\n",
       "      <td>10.408752</td>\n",
       "      <td>3.193904</td>\n",
       "      <td>2.912587</td>\n",
       "    </tr>\n",
       "    <tr>\n",
       "      <th>min</th>\n",
       "      <td>2.000000</td>\n",
       "      <td>50.000000</td>\n",
       "      <td>1.005000</td>\n",
       "      <td>0.000000</td>\n",
       "      <td>0.000000</td>\n",
       "      <td>22.000000</td>\n",
       "      <td>1.500000</td>\n",
       "      <td>0.400000</td>\n",
       "      <td>4.500000</td>\n",
       "      <td>2.500000</td>\n",
       "      <td>3.100000</td>\n",
       "    </tr>\n",
       "    <tr>\n",
       "      <th>25%</th>\n",
       "      <td>42.000000</td>\n",
       "      <td>70.000000</td>\n",
       "      <td>1.010000</td>\n",
       "      <td>0.000000</td>\n",
       "      <td>0.000000</td>\n",
       "      <td>99.000000</td>\n",
       "      <td>27.000000</td>\n",
       "      <td>0.900000</td>\n",
       "      <td>135.000000</td>\n",
       "      <td>3.800000</td>\n",
       "      <td>10.300000</td>\n",
       "    </tr>\n",
       "    <tr>\n",
       "      <th>50%</th>\n",
       "      <td>55.000000</td>\n",
       "      <td>80.000000</td>\n",
       "      <td>1.020000</td>\n",
       "      <td>0.000000</td>\n",
       "      <td>0.000000</td>\n",
       "      <td>121.000000</td>\n",
       "      <td>42.000000</td>\n",
       "      <td>1.300000</td>\n",
       "      <td>138.000000</td>\n",
       "      <td>4.400000</td>\n",
       "      <td>12.650000</td>\n",
       "    </tr>\n",
       "    <tr>\n",
       "      <th>75%</th>\n",
       "      <td>64.500000</td>\n",
       "      <td>80.000000</td>\n",
       "      <td>1.020000</td>\n",
       "      <td>2.000000</td>\n",
       "      <td>0.000000</td>\n",
       "      <td>163.000000</td>\n",
       "      <td>66.000000</td>\n",
       "      <td>2.800000</td>\n",
       "      <td>142.000000</td>\n",
       "      <td>4.900000</td>\n",
       "      <td>15.000000</td>\n",
       "    </tr>\n",
       "    <tr>\n",
       "      <th>max</th>\n",
       "      <td>90.000000</td>\n",
       "      <td>180.000000</td>\n",
       "      <td>1.025000</td>\n",
       "      <td>5.000000</td>\n",
       "      <td>5.000000</td>\n",
       "      <td>490.000000</td>\n",
       "      <td>391.000000</td>\n",
       "      <td>76.000000</td>\n",
       "      <td>163.000000</td>\n",
       "      <td>47.000000</td>\n",
       "      <td>17.800000</td>\n",
       "    </tr>\n",
       "  </tbody>\n",
       "</table>\n",
       "</div>"
      ],
      "text/plain": [
       "              age          bp          sg          al          su         bgr  \\\n",
       "count  391.000000  388.000000  353.000000  354.000000  351.000000  356.000000   \n",
       "mean    51.483376   76.469072    1.017408    1.016949    0.450142  148.036517   \n",
       "std     17.169714   13.683637    0.005717    1.352679    1.099191   79.281714   \n",
       "min      2.000000   50.000000    1.005000    0.000000    0.000000   22.000000   \n",
       "25%     42.000000   70.000000    1.010000    0.000000    0.000000   99.000000   \n",
       "50%     55.000000   80.000000    1.020000    0.000000    0.000000  121.000000   \n",
       "75%     64.500000   80.000000    1.020000    2.000000    0.000000  163.000000   \n",
       "max     90.000000  180.000000    1.025000    5.000000    5.000000  490.000000   \n",
       "\n",
       "               bu          sc         sod         pot        hemo  \n",
       "count  381.000000  383.000000  313.000000  312.000000  348.000000  \n",
       "mean    57.425722    3.072454  137.528754    4.627244   12.526437  \n",
       "std     50.503006    5.741126   10.408752    3.193904    2.912587  \n",
       "min      1.500000    0.400000    4.500000    2.500000    3.100000  \n",
       "25%     27.000000    0.900000  135.000000    3.800000   10.300000  \n",
       "50%     42.000000    1.300000  138.000000    4.400000   12.650000  \n",
       "75%     66.000000    2.800000  142.000000    4.900000   15.000000  \n",
       "max    391.000000   76.000000  163.000000   47.000000   17.800000  "
      ]
     },
     "execution_count": 6,
     "metadata": {},
     "output_type": "execute_result"
    }
   ],
   "source": [
    "df.describe()\n",
    "#describe numerik değerlerin temel istatistik özellikleri analiz edilir\n",
    "#count = veri sayısı\n",
    "#mean = ortalama değeri\n",
    "#std = standart sapma\n",
    "#min = verilerin en düşük değeri\n",
    "#25 = ilk çeyrekteki medyan(ortanca) değeri\n",
    "#50 = tüm verideki medyan(ortanca) değeri\n",
    "#75 = son çeyrekteki medyan(ortanca) değeri\n",
    "#max = verilerin en yüksek değeri"
   ]
  },
  {
   "cell_type": "code",
   "execution_count": 7,
   "id": "129ba291-218f-426e-a400-10a8407d3f24",
   "metadata": {},
   "outputs": [
    {
     "name": "stdout",
     "output_type": "stream",
     "text": [
      "<class 'pandas.core.frame.DataFrame'>\n",
      "RangeIndex: 400 entries, 0 to 399\n",
      "Data columns (total 25 columns):\n",
      " #   Column          Non-Null Count  Dtype  \n",
      "---  ------          --------------  -----  \n",
      " 0   age             391 non-null    float64\n",
      " 1   bp              388 non-null    float64\n",
      " 2   sg              353 non-null    float64\n",
      " 3   al              354 non-null    float64\n",
      " 4   su              351 non-null    float64\n",
      " 5   rbc             248 non-null    object \n",
      " 6   pc              335 non-null    object \n",
      " 7   pcc             396 non-null    object \n",
      " 8   ba              396 non-null    object \n",
      " 9   bgr             356 non-null    float64\n",
      " 10  bu              381 non-null    float64\n",
      " 11  sc              383 non-null    float64\n",
      " 12  sod             313 non-null    float64\n",
      " 13  pot             312 non-null    float64\n",
      " 14  hemo            348 non-null    float64\n",
      " 15  pcv             330 non-null    object \n",
      " 16  wc              295 non-null    object \n",
      " 17  rc              270 non-null    object \n",
      " 18  htn             398 non-null    object \n",
      " 19  dm              398 non-null    object \n",
      " 20  cad             398 non-null    object \n",
      " 21  appet           399 non-null    object \n",
      " 22  pe              399 non-null    object \n",
      " 23  ane             399 non-null    object \n",
      " 24  classification  400 non-null    object \n",
      "dtypes: float64(11), object(14)\n",
      "memory usage: 78.3+ KB\n"
     ]
    }
   ],
   "source": [
    "df.info()"
   ]
  },
  {
   "cell_type": "code",
   "execution_count": 8,
   "id": "8d3fd4d5-aa95-4989-8892-64c0430e3262",
   "metadata": {},
   "outputs": [
    {
     "name": "stdout",
     "output_type": "stream",
     "text": [
      "Sütun: age\n",
      "Değerler: [48.  7. 62. 51. 60. 68. 24. 52. 53. 50. 63. 40. 47. 61. 21. 42. 75. 69.\n",
      " nan 73. 70. 65. 76. 72. 82. 46. 45. 35. 54. 11. 59. 67. 15. 55. 44. 26.\n",
      " 64. 56.  5. 74. 38. 58. 71. 34. 17. 12. 43. 41. 57.  8. 39. 66. 81. 14.\n",
      " 27. 83. 30.  4.  3.  6. 32. 80. 49. 90. 78. 19.  2. 33. 36. 37. 23. 25.\n",
      " 20. 29. 28. 22. 79.]\n",
      "------------------------------\n",
      "Sütun: bp\n",
      "Değerler: [ 80.  50.  70.  90.  nan 100.  60. 110. 140. 180. 120.]\n",
      "------------------------------\n",
      "Sütun: sg\n",
      "Değerler: [1.02  1.01  1.005 1.015   nan 1.025]\n",
      "------------------------------\n",
      "Sütun: al\n",
      "Değerler: [ 1.  4.  2.  3.  0. nan  5.]\n",
      "------------------------------\n",
      "Sütun: su\n",
      "Değerler: [ 0.  3.  4.  1. nan  2.  5.]\n",
      "------------------------------\n",
      "Sütun: rbc\n",
      "Değerler: [nan 'normal' 'abnormal']\n",
      "------------------------------\n",
      "Sütun: pc\n",
      "Değerler: ['normal' 'abnormal' nan]\n",
      "------------------------------\n",
      "Sütun: pcc\n",
      "Değerler: ['notpresent' 'present' nan]\n",
      "------------------------------\n",
      "Sütun: ba\n",
      "Değerler: ['notpresent' 'present' nan]\n",
      "------------------------------\n",
      "Sütun: bgr\n",
      "Değerler: [121.  nan 423. 117. 106.  74. 100. 410. 138.  70. 490. 380. 208.  98.\n",
      " 157.  76.  99. 114. 263. 173.  95. 108. 156. 264. 123.  93. 107. 159.\n",
      " 140. 171. 270.  92. 137. 204.  79. 207. 124. 144.  91. 162. 246. 253.\n",
      " 141. 182.  86. 150. 146. 425. 112. 250. 360. 163. 129. 133. 102. 158.\n",
      " 165. 132. 104. 127. 415. 169. 251. 109. 280. 210. 219. 295.  94. 172.\n",
      " 101. 298. 153.  88. 226. 143. 115.  89. 297. 233. 294. 323. 125.  90.\n",
      " 308. 118. 224. 128. 122. 214. 213. 268. 256.  84. 105. 288. 139.  78.\n",
      " 273. 242. 424. 303. 148. 160. 192. 307. 220. 447. 309.  22. 111. 261.\n",
      " 215. 234. 131. 352.  80. 239. 110. 130. 184. 252. 113. 230. 341. 255.\n",
      " 103. 238. 248. 120. 241. 269. 201. 203. 463. 176.  82. 119.  97.  96.\n",
      "  81. 116. 134.  85.  83.  87.  75.]\n",
      "------------------------------\n",
      "Sütun: bu\n",
      "Değerler: [ 36.   18.   53.   56.   26.   25.   54.   31.   60.  107.   55.   72.\n",
      "  86.   90.  162.   46.   87.   27.  148.  180.  163.    nan  50.   75.\n",
      "  45.   28.  155.   33.   39.  153.   29.   65.  103.   70.   80.   20.\n",
      " 202.   77.   89.   24.   17.   32.  114.   66.   38.  164.  142.   96.\n",
      " 391.   15.  111.   73.   19.   92.   35.   16.  139.   48.   85.   98.\n",
      " 186.   37.   47.   52.   82.   51.  106.   22.  217.   88.  118.   50.1\n",
      "  71.   34.   40.   21.  219.   30.  125.  166.   49.  208.  176.   68.\n",
      " 145.  165.  322.   23.  235.  132.   76.   42.   44.   41.  113.    1.5\n",
      " 146.   58.  133.  137.   67.  115.  223.   98.6 158.   94.   74.  150.\n",
      "  61.   57.   95.  191.   93.  241.   64.   79.  215.  309.   10. ]\n",
      "------------------------------\n",
      "Sütun: sc\n",
      "Değerler: [ 1.2   0.8   1.8   3.8   1.4   1.1  24.    1.9   7.2   4.    2.7   2.1\n",
      "  4.6   4.1   9.6   2.2   5.2   1.3   1.6   3.9  76.    7.7    nan  2.4\n",
      "  7.3   1.5   2.5   2.    3.4   0.7   1.   10.8   6.3   5.9   0.9   3.\n",
      "  3.25  9.7   6.4   3.2  32.    0.6   6.1   3.3   6.7   8.5   2.8  15.\n",
      "  2.9   1.7   3.6   5.6   6.5   4.4  10.2  11.5   0.5  12.2   5.3   9.2\n",
      " 13.8  16.9   6.    7.1  18.    2.3  13.   48.1  14.2  16.4   2.6   7.5\n",
      "  4.3  18.1  11.8   9.3   6.8  13.5  12.8  11.9  12.   13.4  15.2  13.3\n",
      "  0.4 ]\n",
      "------------------------------\n",
      "Sütun: sod\n",
      "Değerler: [  nan 111.  142.  104.  114.  131.  138.  135.  130.  141.  139.    4.5\n",
      " 136.  129.  140.  132.  133.  134.  125.  163.  137.  128.  143.  127.\n",
      " 146.  126.  122.  147.  124.  115.  145.  113.  120.  150.  144. ]\n",
      "------------------------------\n",
      "Sütun: pot\n",
      "Değerler: [ nan  2.5  3.2  4.   3.7  4.2  5.8  3.4  6.4  4.9  4.1  4.3  5.2  3.8\n",
      "  4.6  3.9  4.7  5.9  4.8  4.4  6.6 39.   5.5  5.   3.5  3.6  7.6  2.9\n",
      "  4.5  5.7  5.4  5.3 47.   6.3  5.1  5.6  3.   2.8  2.7  6.5  3.3]\n",
      "------------------------------\n",
      "Sütun: hemo\n",
      "Değerler: [15.4 11.3  9.6 11.2 11.6 12.2 12.4 10.8  9.5  9.4  9.7  9.8  5.6  7.6\n",
      " 12.6 12.1 12.7 10.3  7.7 10.9  nan 11.1  9.9 12.5 12.9 10.1 12.  13.\n",
      "  7.9  9.3 15.  10.   8.6 13.6 10.2 10.5  6.6 11.   7.5 15.6 15.2  4.8\n",
      "  9.1  8.1 11.9 13.5  8.3  7.1 16.1 10.4  9.2  6.2 13.9 14.1  6.  11.8\n",
      " 11.7 11.4 14.   8.2 13.2  6.1  8.  12.3  8.4 14.3  9.   8.7 10.6 13.1\n",
      " 10.7  5.5  5.8  6.8  8.8  8.5 13.8 11.5  7.3 13.7 12.8 13.4  6.3  3.1\n",
      " 17.  15.9 14.5 15.5 16.2 14.4 14.2 16.3 14.8 16.5 15.7 13.3 14.6 16.4\n",
      " 16.9 16.  14.7 16.6 14.9 16.7 16.8 15.8 15.1 17.1 17.2 15.3 17.3 17.4\n",
      " 17.7 17.8 17.5 17.6]\n",
      "------------------------------\n",
      "Sütun: pcv\n",
      "Değerler: ['44' '38' '31' '32' '35' '39' '36' '33' '29' '28' nan '16' '24' '37' '30'\n",
      " '34' '40' '45' '27' '48' '\\t?' '52' '14' '22' '18' '42' '17' '46' '23'\n",
      " '19' '25' '41' '26' '15' '21' '43' '20' '\\t43' '47' '9' '49' '50' '53'\n",
      " '51' '54']\n",
      "------------------------------\n",
      "Sütun: wc\n",
      "Değerler: ['7800' '6000' '7500' '6700' '7300' nan '6900' '9600' '12100' '4500'\n",
      " '12200' '11000' '3800' '11400' '5300' '9200' '6200' '8300' '8400' '10300'\n",
      " '9800' '9100' '7900' '6400' '8600' '18900' '21600' '4300' '8500' '11300'\n",
      " '7200' '7700' '14600' '6300' '\\t6200' '7100' '11800' '9400' '5500' '5800'\n",
      " '13200' '12500' '5600' '7000' '11900' '10400' '10700' '12700' '6800'\n",
      " '6500' '13600' '10200' '9000' '14900' '8200' '15200' '5000' '16300'\n",
      " '12400' '\\t8400' '10500' '4200' '4700' '10900' '8100' '9500' '2200'\n",
      " '12800' '11200' '19100' '\\t?' '12300' '16700' '2600' '26400' '8800'\n",
      " '7400' '4900' '8000' '12000' '15700' '4100' '5700' '11500' '5400' '10800'\n",
      " '9900' '5200' '5900' '9300' '9700' '5100' '6600']\n",
      "------------------------------\n",
      "Sütun: rc\n",
      "Değerler: ['5.2' nan '3.9' '4.6' '4.4' '5' '4.0' '3.7' '3.8' '3.4' '2.6' '2.8' '4.3'\n",
      " '3.2' '3.6' '4' '4.1' '4.9' '2.5' '4.2' '4.5' '3.1' '4.7' '3.5' '6.0'\n",
      " '5.0' '2.1' '5.6' '2.3' '2.9' '2.7' '8.0' '3.3' '3.0' '3' '2.4' '4.8'\n",
      " '\\t?' '5.4' '6.1' '6.2' '6.3' '5.1' '5.8' '5.5' '5.3' '6.4' '5.7' '5.9'\n",
      " '6.5']\n",
      "------------------------------\n",
      "Sütun: htn\n",
      "Değerler: ['yes' 'no' nan]\n",
      "------------------------------\n",
      "Sütun: dm\n",
      "Değerler: ['yes' 'no' ' yes' '\\tno' '\\tyes' nan]\n",
      "------------------------------\n",
      "Sütun: cad\n",
      "Değerler: ['no' 'yes' '\\tno' nan]\n",
      "------------------------------\n",
      "Sütun: appet\n",
      "Değerler: ['good' 'poor' nan]\n",
      "------------------------------\n",
      "Sütun: pe\n",
      "Değerler: ['no' 'yes' nan]\n",
      "------------------------------\n",
      "Sütun: ane\n",
      "Değerler: ['no' 'yes' nan]\n",
      "------------------------------\n",
      "Sütun: classification\n",
      "Değerler: ['ckd' 'ckd\\t' 'notckd']\n",
      "------------------------------\n"
     ]
    }
   ],
   "source": [
    "for column in df.columns:\n",
    "    unique_values = df[column].unique()  # Sütunun benzersiz değerlerini al\n",
    "    print(f\"Sütun: {column}\")\n",
    "    print(f\"Değerler: {unique_values}\")\n",
    "    print(\"-\" * 30)  # Ayırıcı çizgi"
   ]
  },
  {
   "cell_type": "code",
   "execution_count": 9,
   "id": "95a836a2-6222-49bf-be63-e6bf1db53237",
   "metadata": {},
   "outputs": [
    {
     "name": "stdout",
     "output_type": "stream",
     "text": [
      "Veri setinde '\\tyes' değeri bulunmamaktadır.\n",
      "Veri setinde ' yes' değeri bulunmamaktadır.\n",
      "Veri setinde '\\t?' değeri bulunmamaktadır.\n",
      "Veri setinde '\\t6200' değeri bulunmamaktadır.\n",
      "Veri setinde '\\t43' değeri bulunmamaktadır.\n",
      "Veri setinde '\\t8400' değeri bulunmamaktadır.\n",
      "Veri setinde 'ckd\\t' değeri bulunmamaktadır.\n"
     ]
    }
   ],
   "source": [
    "df.replace({\n",
    "'\\tno': 'no', \n",
    "    '\\tyes': 'yes', \n",
    "    ' yes': 'yes',\n",
    "    '\\t?': '',\n",
    "    '\\t6200':'6200',\n",
    "    '\\t43':'43',\n",
    "    '\\t8400':'8400',\n",
    "    'ckd\\t': 'ckd'\n",
    "}, regex=True, inplace=True)\n",
    "import pandas as pd\n",
    "\n",
    "# Örnek veri setinizi yükleyin\n",
    "# df = pd.read_csv('veri_seti.csv')\n",
    "\n",
    "# İstenmeyen değerlerin listesi\n",
    "undesired_values = ['\\tyes', ' yes', '\\t?', '\\t6200', '\\t43', '\\t8400', 'ckd\\t']\n",
    "\n",
    "# Veri setinde her istenmeyen değerin varlığını kontrol etme\n",
    "for value in undesired_values:\n",
    "    contains_value = (df == value).any().any()  # Veri setindeki her hücrede bu değerin olup olmadığını kontrol et\n",
    "    if contains_value:\n",
    "        print(f\"Veri setinde {repr(value)} değeri bulundu.\")\n",
    "    else:\n",
    "        print(f\"Veri setinde {repr(value)} değeri bulunmamaktadır.\")\n"
   ]
  },
  {
   "cell_type": "code",
   "execution_count": 10,
   "id": "e894e581-cad5-43ef-aeb2-1ef7786dc703",
   "metadata": {},
   "outputs": [
    {
     "name": "stdout",
     "output_type": "stream",
     "text": [
      "<class 'pandas.core.frame.DataFrame'>\n",
      "RangeIndex: 400 entries, 0 to 399\n",
      "Data columns (total 25 columns):\n",
      " #   Column          Non-Null Count  Dtype  \n",
      "---  ------          --------------  -----  \n",
      " 0   age             391 non-null    float64\n",
      " 1   bp              388 non-null    float64\n",
      " 2   sg              353 non-null    float64\n",
      " 3   al              354 non-null    float64\n",
      " 4   su              351 non-null    float64\n",
      " 5   rbc             248 non-null    object \n",
      " 6   pc              335 non-null    object \n",
      " 7   pcc             396 non-null    object \n",
      " 8   ba              396 non-null    object \n",
      " 9   bgr             356 non-null    float64\n",
      " 10  bu              381 non-null    float64\n",
      " 11  sc              383 non-null    float64\n",
      " 12  sod             313 non-null    float64\n",
      " 13  pot             312 non-null    float64\n",
      " 14  hemo            348 non-null    float64\n",
      " 15  pcv             330 non-null    object \n",
      " 16  wc              295 non-null    object \n",
      " 17  rc              270 non-null    object \n",
      " 18  htn             398 non-null    object \n",
      " 19  dm              398 non-null    object \n",
      " 20  cad             398 non-null    object \n",
      " 21  appet           399 non-null    object \n",
      " 22  pe              399 non-null    object \n",
      " 23  ane             399 non-null    object \n",
      " 24  classification  400 non-null    object \n",
      "dtypes: float64(11), object(14)\n",
      "memory usage: 78.3+ KB\n"
     ]
    }
   ],
   "source": [
    "df.info()"
   ]
  },
  {
   "cell_type": "code",
   "execution_count": 22,
   "id": "4756c52b-3345-4e4b-a093-cb1c29cede30",
   "metadata": {},
   "outputs": [
    {
     "data": {
      "text/plain": [
       "age                 9\n",
       "bp                 12\n",
       "sg                 47\n",
       "al                 46\n",
       "su                 49\n",
       "rbc               152\n",
       "pc                 65\n",
       "pcc                 4\n",
       "ba                  4\n",
       "bgr                44\n",
       "bu                 19\n",
       "sc                 17\n",
       "sod                87\n",
       "pot                88\n",
       "hemo               52\n",
       "pcv                70\n",
       "wc                105\n",
       "rc                130\n",
       "htn                 2\n",
       "dm                  2\n",
       "cad                 2\n",
       "appet               1\n",
       "pe                  1\n",
       "ane                 1\n",
       "classification      0\n",
       "dtype: int64"
      ]
     },
     "execution_count": 22,
     "metadata": {},
     "output_type": "execute_result"
    }
   ],
   "source": [
    "df.isna().sum()#kaç adet kayıp veri var "
   ]
  },
  {
   "cell_type": "markdown",
   "id": "4048cc39-bd7f-4ee2-be78-447469ba256b",
   "metadata": {},
   "source": [
    "# Sayısal Değerlerin Eksik Verilerini Doldurma"
   ]
  },
  {
   "cell_type": "code",
   "execution_count": 28,
   "id": "d506b3de-f85d-4cda-a15d-dfad9b0452a4",
   "metadata": {},
   "outputs": [
    {
     "name": "stdout",
     "output_type": "stream",
     "text": [
      "Column: age\n",
      "Unique: 76\n",
      "Max: 90.0\n",
      "Min: 2.0\n",
      "------------------------------\n",
      "Column: bp\n",
      "Unique: 10\n",
      "Max: 180.0\n",
      "Min: 50.0\n",
      "------------------------------\n",
      "Column: sg\n",
      "Unique: 5\n",
      "Max: 1.025\n",
      "Min: 1.005\n",
      "------------------------------\n",
      "Column: al\n",
      "Unique: 6\n",
      "Max: 5.0\n",
      "Min: 0.0\n",
      "------------------------------\n",
      "Column: su\n",
      "Unique: 6\n",
      "Max: 5.0\n",
      "Min: 0.0\n",
      "------------------------------\n",
      "Column: bgr\n",
      "Unique: 146\n",
      "Max: 490.0\n",
      "Min: 22.0\n",
      "------------------------------\n",
      "Column: bu\n",
      "Unique: 118\n",
      "Max: 391.0\n",
      "Min: 1.5\n",
      "------------------------------\n",
      "Column: sc\n",
      "Unique: 84\n",
      "Max: 76.0\n",
      "Min: 0.4\n",
      "------------------------------\n",
      "Column: sod\n",
      "Unique: 34\n",
      "Max: 163.0\n",
      "Min: 4.5\n",
      "------------------------------\n",
      "Column: pot\n",
      "Unique: 40\n",
      "Max: 47.0\n",
      "Min: 2.5\n",
      "------------------------------\n",
      "Column: hemo\n",
      "Unique: 115\n",
      "Max: 17.8\n",
      "Min: 3.1\n",
      "------------------------------\n"
     ]
    }
   ],
   "source": [
    "# Tüm sütunlar için max, min, unique sayısını yazdırma\n",
    "for col in df.columns:\n",
    "    if df[col].dtype != 'object':  # Sadece sayısal sütunları kontrol et\n",
    "        max_val = df[col].max()  # En büyük değer\n",
    "        min_val = df[col].min()  # En küçük değer\n",
    "        unique_vals = df[col].nunique()  # Benzersiz değer sayısı\n",
    "        \n",
    "        print(f\"Column: {col}\")\n",
    "        print(f\"Unique: {unique_vals}\")\n",
    "        print(f\"Max: {max_val}\")\n",
    "        print(f\"Min: {min_val}\")\n",
    "        print(\"-\" * 30)\n"
   ]
  },
  {
   "cell_type": "code",
   "execution_count": 29,
   "id": "35d924d9-3aa0-4128-bf60-c68a95198004",
   "metadata": {},
   "outputs": [
    {
     "name": "stdout",
     "output_type": "stream",
     "text": [
      "0\n"
     ]
    }
   ],
   "source": [
    "median_age = df['age'].median()  # Yaşın medyanını hesapla\n",
    "\n",
    "# Eksik verileri medyan değeriyle doldur\n",
    "df['age'].fillna(median_age, inplace=True)\n",
    "\n",
    "# Sonucu kontrol et\n",
    "print(df['age'].isnull().sum())  # Eksik veri olup olmadığını kontrol et\n"
   ]
  },
  {
   "cell_type": "code",
   "execution_count": 31,
   "id": "c4bd94c9-b752-486f-84a8-eaad26d4dd3b",
   "metadata": {},
   "outputs": [
    {
     "name": "stdout",
     "output_type": "stream",
     "text": [
      "0\n"
     ]
    }
   ],
   "source": [
    "bp_mean = df['bp'].mean()  # 'bp' sütununun ortalamasını alıyoruz\n",
    "\n",
    "# 'bp' sütunundaki eksik verileri ortalama ile dolduruyoruz\n",
    "df['bp'].fillna(bp_mean, inplace=True)\n",
    "\n",
    "print(df['bp'].isnull().sum())  # Eksik veri olup olmadığını kontrol et\n"
   ]
  },
  {
   "cell_type": "code",
   "execution_count": 32,
   "id": "f61ed11b-475e-49a1-88fd-21af678ed20f",
   "metadata": {},
   "outputs": [
    {
     "name": "stdout",
     "output_type": "stream",
     "text": [
      "0\n"
     ]
    }
   ],
   "source": [
    "sg_mean = df['sg'].mean()  # 'bp' sütununun ortalamasını alıyoruz\n",
    "\n",
    "# 'bp' sütunundaki eksik verileri ortalama ile dolduruyoruz\n",
    "df['sg'].fillna(sg_mean, inplace=True)\n",
    "\n",
    "print(df['sg'].isnull().sum())  # Eksik veri olup olmadığını kontrol et\n"
   ]
  },
  {
   "cell_type": "code",
   "execution_count": 33,
   "id": "6538f3bd-89b1-4425-9b08-fe7b66a247e2",
   "metadata": {},
   "outputs": [
    {
     "name": "stdout",
     "output_type": "stream",
     "text": [
      "0\n"
     ]
    }
   ],
   "source": [
    "al_mean = df['al'].mean()  # 'bp' sütununun ortalamasını alıyoruz\n",
    "\n",
    "# 'bp' sütunundaki eksik verileri ortalama ile dolduruyoruz\n",
    "df['al'].fillna(al_mean, inplace=True)\n",
    "\n",
    "print(df['al'].isnull().sum())  # Eksik veri olup olmadığını kontrol et\n"
   ]
  },
  {
   "cell_type": "code",
   "execution_count": 34,
   "id": "ca07dad8-7216-4401-9b6c-053f3b50af96",
   "metadata": {},
   "outputs": [
    {
     "name": "stdout",
     "output_type": "stream",
     "text": [
      "0\n"
     ]
    }
   ],
   "source": [
    "su_mean = df['su'].mean()  # 'bp' sütununun ortalamasını alıyoruz\n",
    "\n",
    "# 'bp' sütunundaki eksik verileri ortalama ile dolduruyoruz\n",
    "df['su'].fillna(su_mean, inplace=True)\n",
    "\n",
    "print(df['su'].isnull().sum())  # Eksik veri olup olmadığını kontrol et\n"
   ]
  },
  {
   "cell_type": "code",
   "execution_count": 35,
   "id": "fa05a9ea-c433-47b1-8390-8536505b3254",
   "metadata": {},
   "outputs": [
    {
     "name": "stdout",
     "output_type": "stream",
     "text": [
      "0\n"
     ]
    }
   ],
   "source": [
    "\n",
    "median_bgr = df['bgr'].median()  # Yaşın medyanını hesapla\n",
    "\n",
    "# Eksik verileri medyan değeriyle doldur\n",
    "df['bgr'].fillna(median_bgr, inplace=True)\n",
    "\n",
    "# Sonucu kontrol et\n",
    "print(df['bgr'].isnull().sum())  # Eksik veri olup olmadığını kontrol et\n"
   ]
  },
  {
   "cell_type": "code",
   "execution_count": 36,
   "id": "5517cdb4-002a-4cc1-a902-cf6e19d24efa",
   "metadata": {},
   "outputs": [
    {
     "name": "stdout",
     "output_type": "stream",
     "text": [
      "0\n"
     ]
    }
   ],
   "source": [
    "median_bu = df['bu'].median()  # Yaşın medyanını hesapla\n",
    "\n",
    "# Eksik verileri medyan değeriyle doldur\n",
    "df['bu'].fillna(median_bu, inplace=True)\n",
    "\n",
    "# Sonucu kontrol et\n",
    "print(df['bu'].isnull().sum())  # Eksik veri olup olmadığını kontrol et\n"
   ]
  },
  {
   "cell_type": "code",
   "execution_count": 37,
   "id": "d2f3e970-f44e-44a2-9e5f-5f070b3e396d",
   "metadata": {},
   "outputs": [
    {
     "name": "stdout",
     "output_type": "stream",
     "text": [
      "0\n"
     ]
    }
   ],
   "source": [
    "median_sc = df['sc'].median()  # Yaşın medyanını hesapla\n",
    "\n",
    "# Eksik verileri medyan değeriyle doldur\n",
    "df['sc'].fillna(median_sc, inplace=True)\n",
    "\n",
    "# Sonucu kontrol et\n",
    "print(df['sc'].isnull().sum())  # Eksik veri olup olmadığını kontrol et\n"
   ]
  },
  {
   "cell_type": "code",
   "execution_count": 38,
   "id": "82631a72-88b0-4513-8887-822d41e435a4",
   "metadata": {},
   "outputs": [
    {
     "name": "stdout",
     "output_type": "stream",
     "text": [
      "0\n"
     ]
    }
   ],
   "source": [
    "median_sod = df['sod'].median()  # Yaşın medyanını hesapla\n",
    "\n",
    "# Eksik verileri medyan değeriyle doldur\n",
    "df['sod'].fillna(median_sod, inplace=True)\n",
    "\n",
    "# Sonucu kontrol et\n",
    "print(df['sod'].isnull().sum())  # Eksik veri olup olmadığını kontrol et\n"
   ]
  },
  {
   "cell_type": "code",
   "execution_count": 39,
   "id": "19c2334c-df6f-4048-8e6b-184a6ea7528b",
   "metadata": {},
   "outputs": [
    {
     "name": "stdout",
     "output_type": "stream",
     "text": [
      "0\n"
     ]
    }
   ],
   "source": [
    "pot_mean = df['pot'].mean()  # 'bp' sütununun ortalamasını alıyoruz\n",
    "\n",
    "# 'bp' sütunundaki eksik verileri ortalama ile dolduruyoruz\n",
    "df['pot'].fillna(pot_mean, inplace=True)\n",
    "\n",
    "print(df['pot'].isnull().sum())  # Eksik veri olup olmadığını kontrol et\n"
   ]
  },
  {
   "cell_type": "code",
   "execution_count": 41,
   "id": "487b72ac-cd0b-485e-9fc2-12b552645cd5",
   "metadata": {},
   "outputs": [
    {
     "name": "stdout",
     "output_type": "stream",
     "text": [
      "0\n"
     ]
    }
   ],
   "source": [
    "# 'hemo' sütunundaki eksik verileri medyan ile doldur\n",
    "median_hemo = df['hemo'].median()\n",
    "df['hemo'] = df['hemo'].fillna(median_hemo)\n",
    "\n",
    "# Sonucu kontrol et\n",
    "print(df['hemo'].isnull().sum())  # Eksik veri olup olmadığını kontrol et\n"
   ]
  },
  {
   "cell_type": "code",
   "execution_count": null,
   "id": "44383c3e-8be4-421e-849d-4648c821f6ca",
   "metadata": {},
   "outputs": [],
   "source": []
  }
 ],
 "metadata": {
  "kernelspec": {
   "display_name": "Python 3 (ipykernel)",
   "language": "python",
   "name": "python3"
  },
  "language_info": {
   "codemirror_mode": {
    "name": "ipython",
    "version": 3
   },
   "file_extension": ".py",
   "mimetype": "text/x-python",
   "name": "python",
   "nbconvert_exporter": "python",
   "pygments_lexer": "ipython3",
   "version": "3.13.0"
  },
  "widgets": {
   "application/vnd.jupyter.widget-state+json": {
    "state": {},
    "version_major": 2,
    "version_minor": 0
   }
  }
 },
 "nbformat": 4,
 "nbformat_minor": 5
}
